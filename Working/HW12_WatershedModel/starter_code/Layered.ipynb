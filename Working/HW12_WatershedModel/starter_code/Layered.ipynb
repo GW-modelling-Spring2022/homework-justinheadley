{
 "cells": [
  {
   "cell_type": "markdown",
   "metadata": {},
   "source": [
    "# Layered Model Starter Code\n",
    "\n",
    "## Model Description \n",
    "This is a steady state, layered box model with recharge.\n",
    "\n",
    "#### Dimensions: \n",
    "- 50 by 50 by 1\n",
    "- dx = dy = 100 m\n",
    "- dz = 100 m  \n",
    "\n",
    "#### Topography\n",
    "- Land surface 100m above the datum on the left hand side\n",
    "- sloping linearly to 85m above the datum on the right hand side\n",
    "\n",
    "#### Subsurface Properties: \n",
    "- Homogeneous \n",
    "- K = 1.0 m/day in x and y and 0.1 m/day in z.  \n",
    "- Porosity = 0.35\n",
    "- Specific yield = 0.3\n",
    "- Storage coefficient=0.001  \n",
    "\n",
    "#### Boundary Conditions: \n",
    " - Left boundary constant head 85m\n",
    " - Right boundary is a constant head of 70m \n",
    " - Recharge occurs at a rate of 5E-5 m/d uniformly across the domain\n",
    " \n",
    "#### Well: \n",
    " - Pumping well\n",
    "     - Located at (2500, 2500)\n",
    "     - Pumping at a rate of 500 m^3/day \n",
    "\n",
    "#### Layered Scenario\n",
    " - Low K layer - Kx=Ky=Kz=0.0001m/d\n",
    " - Extends from 25-35m above the base of the domain\n",
    " - The well is only completed in the lowest layer\n",
    "     "
   ]
  },
  {
   "cell_type": "markdown",
   "metadata": {},
   "source": [
    "## 1. Setup the environment"
   ]
  },
  {
   "cell_type": "code",
   "execution_count": 20,
   "metadata": {},
   "outputs": [],
   "source": [
    "#the basics\n",
    "import flopy\n",
    "import numpy as np\n",
    "import matplotlib as mp\n",
    "import os\n",
    "\n",
    "#additional analysis tools\n",
    "import flopy.utils.binaryfile as bf\n",
    "from mpl_toolkits.mplot3d import Axes3D\n",
    "import matplotlib.pyplot as plt\n",
    "from matplotlib import cm\n",
    "from matplotlib.ticker import LinearLocator, FormatStrFormatter\n",
    "import csv\n",
    "\n",
    "#jupyter specific--included to show plots in notebook\n",
    "%matplotlib inline \n",
    "\n"
   ]
  },
  {
   "cell_type": "markdown",
   "metadata": {},
   "source": [
    "## 2. Setup the input variables "
   ]
  },
  {
   "cell_type": "code",
   "execution_count": 21,
   "metadata": {},
   "outputs": [],
   "source": [
    "## model directory\n",
    "moddir=\"C:/Users/justi/Documents/GW Modeling Repository/homework-justinheadley/mf2005\"\n",
    "\n",
    "## Discretization\n",
    "nrow = 50 #number of rows\n",
    "ncol = 50 #number of columns\n",
    "nlay = 3  #number of layers, I think this is only the variable in the one-layer scenario, but changing to 3 just in case\n",
    "\n",
    "dx= 1000 #width of grid cells in x direction \n",
    "dy= 1000 #width of grid cells in y direction \n",
    "\n",
    "Lx = ncol*dx  #width of domain in x\n",
    "Ly = nrow*dy #width of domain in y\n",
    "\n",
    "with open('BASE_top_elev.csv', 'r', encoding='utf-8-sig') as reader: #using new csv file for HW12\n",
    "    ztop = np.genfromtxt(reader, dtype=float, delimiter=',') # top elevation of top layer (import from csv file) (dim: nrow,ncol)\n",
    "# print(type(ztop))\n",
    "# print(ztop.shape)\n",
    "# print(ztop[0,:])\n",
    "zbot = 0.     #bottom elevation\n",
    "\n",
    "dz = (ztop - zbot) / nlay #cell height in z direction\n",
    "\n",
    "## Timing\n",
    "nper = 1 #number of stress periods \n",
    "steady = [True] #list noting the stress period type\n",
    "\n",
    "## Subsurface properties\n",
    "K_horiz = 8.5    #assign horizontal hydraulic conductivity, will make more specific changes later in code\n",
    "K_vert = 8.5    #assign vertical hydraulic conductivity (along z axis)\n",
    "n = 0.10        #assign porosity\n",
    "Ss = 0.0001      #assign storage coefficient\n",
    "Sy = 0.10        #assign specific yield\n",
    "uncnf = 1       #0=confined, >0 = unconfined\n",
    "\n",
    "## Recharge, will comment out until more things work\n",
    "# recharge = 5e-5 #m/day\n",
    "\n",
    "## Well, Going to comment this out until I get more things working\n",
    "#pumping = -500 #m3/day  #given\n",
    "#well_xy= [2500, 2500] #xy location of well \n",
    "#well_row = np.floor((nrow-1)-(well_xy[1]/dy)) #convert the y location to a row\n",
    "#well_col=np.floor(well_xy[0]/dx-1) #convert the x location to a column\n",
    "#well_loc = (0,well_row,well_col) #Well loc should be layer, row, column\n",
    "#print(well_loc)\n",
    "#print(well_col)\n",
    "\n",
    "\n",
    "## Boundary conditions\n",
    "#h_left = 85 #not actually specified in description (other than no-flow), so am just setting whole domain initially as h_right lower down \n",
    "h_right = 70"
   ]
  },
  {
   "cell_type": "markdown",
   "metadata": {},
   "source": [
    "## 4. Setup and run MODFLOW for the three layer scenario "
   ]
  },
  {
   "cell_type": "code",
   "execution_count": 22,
   "metadata": {},
   "outputs": [
    {
     "name": "stdout",
     "output_type": "stream",
     "text": [
      "FloPy is using the following executable to run the model: C:/Users/justi/Documents/GW Modeling Repository/homework-justinheadley/mf2005.exe\n",
      "\n",
      "                                  MODFLOW-2005     \n",
      "    U.S. GEOLOGICAL SURVEY MODULAR FINITE-DIFFERENCE GROUND-WATER FLOW MODEL\n",
      "                             Version 1.11.00 8/8/2013                        \n",
      "\n",
      " Using NAME file: ThreeLayer.nam \n",
      " Run start date and time (yyyy/mm/dd hh:mm:ss): 2022/04/21  9:45:55\n",
      "\n",
      " Solving:  Stress period:     1    Time step:     1    Ground-Water Flow Eqn.\n",
      " Run end date and time (yyyy/mm/dd hh:mm:ss): 2022/04/21  9:45:55\n",
      " Elapsed run time:  0.088 Seconds\n",
      "\n",
      "  Normal termination of simulation\n"
     ]
    }
   ],
   "source": [
    "#Initialize the model\n",
    "modelname3 = \"ThreeLayer\"\n",
    "m3 = flopy.modflow.Modflow(modelname3, exe_name = moddir)\n",
    "\n",
    "## Make some changes to the parameters                          *layer 0 is top* variable thickness, but constant bottom elevation\n",
    "                                                                # bottom and middle layers have both constant thickness and elevation\n",
    "                                                                \n",
    "nlay2=3  #three layers instead of 1 (I removed the 1-layer scenario entirely from this code)\n",
    "botm = np.zeros((nlay2,nrow,ncol)) # initialize array of zeros for bottom elevation for each model cell (dim: nlay,nrow,ncol)\n",
    "botm[1,:,:] = 40.                  # bottom elevation of middle layer (1) is 40 m\n",
    "botm[0,:,:] = 45.                  # bottom elevation of top layer (0) is 45 m (meaning thickness of middle layer is 5m)\n",
    "\n",
    "## Make a arrays for the K values, here is where I will be specific with K \n",
    "Kz = np.zeros((nlay2,nrow,ncol))     # define an array of zeros the size of the model grid (nlay, nrow, ncol)\n",
    "Kz[:,:,:] = K_vert                   # assign the original value to the entire array\n",
    "Kz[1,:,20:49] = 0.0001               # K of the middle layer is the same as the lower layer in the leftmost 20 columns, \n",
    "                                     # but it is 0.0001 m/day in the z direction in the remaining columns, need to change columns 20-49. \n",
    "\n",
    "Kh = np.zeros((nlay2,nrow,ncol))     # define an array of zeros the size of the model grid (nlay, nrow, ncol)\n",
    "Kh[:,:,:] = K_horiz                  # assign the original value to the entire array, Kh does not change for middle layer\n",
    "\n",
    "\n",
    "#Discretization - dis\n",
    "dis = flopy.modflow.ModflowDis(model=m3, nlay=nlay2, nrow=nrow, ncol=ncol, \n",
    "                               delr=dx, delc=dy, top=ztop, botm=botm, \n",
    "                               itmuni = 4, lenuni = 2, \n",
    "                               nper=nper, steady=steady)\n",
    "\n",
    "\n",
    "# Boundary and initial conditions - bas\n",
    "#Define cell activity (IBOUND)\n",
    "ibound = np.ones((nlay2, nrow, ncol), dtype=np.int32) #integer array of dim (z,y,x), makes all cells active                                                     \n",
    "ibound[:,:,0] = 0          #replace leftmost column (all zs, all ys, first x) with 0 to indicate no-flow boundary\n",
    "ibound[:,0,:] = 0          #replace top row with 0 to indicate no-flow boundary (possibly unnecessary)\n",
    "ibound[:,49,:] = 0          #replace bottom row with 0 to indicate no-flow boundary (possibly unnecessary)\n",
    "ibound[:,:,49] = -1          #replace rightmost column (all zs, all ys, first x) with -1 to indicate constant head\n",
    "\n",
    "# Creating no-flow conditions due to the bedrock\n",
    "for i in range (0,6):             # received help with this, but I can at least explain it. Ex: in this line, for layer 0 (top),\n",
    "    ibound[0:, i, 0:6-i] = 0      # when i=0 (row 0), columns 0-(6-i) (columns 0-6) will have it's ibound coded as 0 (no flow)\n",
    "for i in range (0,8):             # then i goes to the next #, i=1, and now for row 1, columns 0-5 will be ibound=0, and so on until i=6\n",
    "    ibound[1, i, 0:8-i] = 0       # then it goes onto the next line of code\n",
    "for i in range (0,10):\n",
    "    ibound[2, i, 0:10-i] = 0\n",
    "for i in range (0,6):\n",
    "    ibound[0:, 44+i, 0:1+i] = 0  # these bottom 3 \"for\" statements are for the \"bottom\" (wrt y) bedrock\n",
    "for i in range (0,8):\n",
    "    ibound[1, 42+i, 0:1+i] = 0\n",
    "for i in range (0,10):\n",
    "    ibound[2, 40+i, 0:1+1] = 0\n",
    "\n",
    "\n",
    "#setup initial heads as the same as the right boundary (h=70)\n",
    "H_init = np.ones((nlay2, nrow, ncol), dtype=np.float32)  #float array (i.e. decimal), sets all heads to 1.0\n",
    "H_init[:, :, :] = h_right    #initialize the entire domain to the right head value\n",
    "bas = flopy.modflow.ModflowBas(m3, ibound=ibound, strt=H_init)\n",
    "\n",
    "#Layer properties - lpf\n",
    "lpf = flopy.modflow.ModflowLpf(m3, laytyp=uncnf, hk=Kh, \n",
    "                               vka=Kz, ss=Ss,\n",
    "                               sy=Sy,storagecoefficient=True, ipakcb=53) \n",
    "\n",
    "#Recharge, commenting out until I get something working \n",
    "#rech_zone = np.zeros((nrow,ncol))               #define an array of zeros of dim (nrow,ncol)\n",
    "#rech_zone=rech_zone+recharge\n",
    "#rch = flopy.modflow.mfrch.ModflowRch(model=m3, rech=rech_zone, ipakcb=53)     #create rch object\n",
    "\n",
    "#Well, commenting out until I get something working\n",
    "#well_loc = (2,well_row,well_col) #Well loc should be layer, row, column #layer 2 is bottom of domain\n",
    "#well_1 = [i for i in well_loc] + [pumping]\n",
    "#print(well_1)\n",
    "#print(\"Well 1 [layer, row, column, flux]: \\n\", well_1)\n",
    "#wel_spd = {0: [well_1]} #putting the well in the bottom layer\n",
    "#wel = flopy.modflow.ModflowWel(model=m3, stress_period_data=wel_spd)\n",
    "\n",
    "#Output control - OC \n",
    "spd = {(0,0):['print head', 'print budget', 'save head', 'save budget']} #create a dictionary for stress period data, where key (0,0) is associated with value ['print...'] \n",
    "oc = flopy.modflow.ModflowOc(model=m3, stress_period_data=spd, compact=True)\n",
    "\n",
    "#Numerical solver - pcg\n",
    "pcg = flopy.modflow.ModflowPcg(model=m3)\n",
    "\n",
    "#write the inputs\n",
    "m3.write_input()    \n",
    "\n",
    "#Run the model \n",
    "success, mfoutput = m3.run_model(pause=False, report=True)\n",
    "if not success:\n",
    "    raise Exception('MODFLOW did not terminate normally.')"
   ]
  },
  {
   "cell_type": "markdown",
   "metadata": {},
   "source": [
    "# 5. Plot the domains\n",
    "### 5.1 Plan view of the domain"
   ]
  },
  {
   "cell_type": "code",
   "execution_count": 25,
   "metadata": {},
   "outputs": [
    {
     "ename": "AttributeError",
     "evalue": "'NoneType' object has no attribute 'parent'",
     "output_type": "error",
     "traceback": [
      "\u001b[1;31m---------------------------------------------------------------------------\u001b[0m",
      "\u001b[1;31mAttributeError\u001b[0m                            Traceback (most recent call last)",
      "\u001b[1;32mc:\\Users\\justi\\Documents\\GW Modeling Repository\\homework-justinheadley\\Working\\HW12_WatershedModel\\starter_code\\Layered.ipynb Cell 9'\u001b[0m in \u001b[0;36m<module>\u001b[1;34m\u001b[0m\n\u001b[0;32m      <a href='vscode-notebook-cell:/c%3A/Users/justi/Documents/GW%20Modeling%20Repository/homework-justinheadley/Working/HW12_WatershedModel/starter_code/Layered.ipynb#ch0000008?line=2'>3</a>\u001b[0m mapview \u001b[39m=\u001b[39m flopy\u001b[39m.\u001b[39mplot\u001b[39m.\u001b[39mPlotMapView(model\u001b[39m=\u001b[39mm3)\n\u001b[0;32m      <a href='vscode-notebook-cell:/c%3A/Users/justi/Documents/GW%20Modeling%20Repository/homework-justinheadley/Working/HW12_WatershedModel/starter_code/Layered.ipynb#ch0000008?line=3'>4</a>\u001b[0m ibound \u001b[39m=\u001b[39m mapview\u001b[39m.\u001b[39mplot_ibound()\n\u001b[1;32m----> <a href='vscode-notebook-cell:/c%3A/Users/justi/Documents/GW%20Modeling%20Repository/homework-justinheadley/Working/HW12_WatershedModel/starter_code/Layered.ipynb#ch0000008?line=4'>5</a>\u001b[0m wel \u001b[39m=\u001b[39m mapview\u001b[39m.\u001b[39;49mplot_bc(\u001b[39m\"\u001b[39;49m\u001b[39mWEL\u001b[39;49m\u001b[39m\"\u001b[39;49m)\n\u001b[0;32m      <a href='vscode-notebook-cell:/c%3A/Users/justi/Documents/GW%20Modeling%20Repository/homework-justinheadley/Working/HW12_WatershedModel/starter_code/Layered.ipynb#ch0000008?line=5'>6</a>\u001b[0m linecollection \u001b[39m=\u001b[39m mapview\u001b[39m.\u001b[39mplot_grid()\n",
      "File \u001b[1;32m~\\miniconda3\\envs\\gwmod\\lib\\site-packages\\flopy\\plot\\map.py:436\u001b[0m, in \u001b[0;36mPlotMapView.plot_bc\u001b[1;34m(self, name, package, kper, color, plotAll, **kwargs)\u001b[0m\n\u001b[0;32m    <a href='file:///c%3A/Users/justi/miniconda3/envs/gwmod/lib/site-packages/flopy/plot/map.py?line=432'>433</a>\u001b[0m     \u001b[39mraise\u001b[39;00m \u001b[39mException\u001b[39;00m(\u001b[39m\"\u001b[39m\u001b[39mCannot find package to plot\u001b[39m\u001b[39m\"\u001b[39m)\n\u001b[0;32m    <a href='file:///c%3A/Users/justi/miniconda3/envs/gwmod/lib/site-packages/flopy/plot/map.py?line=434'>435</a>\u001b[0m \u001b[39m# trap for mf6 'cellid' vs mf2005 'k', 'i', 'j' convention\u001b[39;00m\n\u001b[1;32m--> <a href='file:///c%3A/Users/justi/miniconda3/envs/gwmod/lib/site-packages/flopy/plot/map.py?line=435'>436</a>\u001b[0m \u001b[39mif\u001b[39;00m \u001b[39misinstance\u001b[39m(p, \u001b[39mlist\u001b[39m) \u001b[39mor\u001b[39;00m p\u001b[39m.\u001b[39;49mparent\u001b[39m.\u001b[39mversion \u001b[39m==\u001b[39m \u001b[39m\"\u001b[39m\u001b[39mmf6\u001b[39m\u001b[39m\"\u001b[39m:\n\u001b[0;32m    <a href='file:///c%3A/Users/justi/miniconda3/envs/gwmod/lib/site-packages/flopy/plot/map.py?line=436'>437</a>\u001b[0m     \u001b[39mif\u001b[39;00m \u001b[39mnot\u001b[39;00m \u001b[39misinstance\u001b[39m(p, \u001b[39mlist\u001b[39m):\n\u001b[0;32m    <a href='file:///c%3A/Users/justi/miniconda3/envs/gwmod/lib/site-packages/flopy/plot/map.py?line=437'>438</a>\u001b[0m         p \u001b[39m=\u001b[39m [p]\n",
      "\u001b[1;31mAttributeError\u001b[0m: 'NoneType' object has no attribute 'parent'"
     ]
    },
    {
     "data": {
      "image/png": "[encoded data removed]",
      "text/plain": [
       "<Figure size 576x576 with 1 Axes>"
      ]
     },
     "metadata": {
      "needs_background": "light"
     },
     "output_type": "display_data"
    }
   ],
   "source": [
    "fig = plt.figure(figsize=(8, 8))\n",
    "ax = fig.add_subplot(1, 1, 1, aspect='equal')\n",
    "mapview = flopy.plot.PlotMapView(model=m3)\n",
    "ibound = mapview.plot_ibound()\n",
    "wel = mapview.plot_bc(\"WEL\")\n",
    "linecollection = mapview.plot_grid()"
   ]
  },
  {
   "cell_type": "markdown",
   "metadata": {},
   "source": [
    "### 5.2 Cross section of the layered model\n",
    "For more examples of cross section plotting check out this notebook: https://github.com/modflowpy/flopy/blob/develop/examples/Notebooks/flopy3.3_PlotCrossSection.ipynb "
   ]
  },
  {
   "cell_type": "code",
   "execution_count": 24,
   "metadata": {},
   "outputs": [
    {
     "ename": "AttributeError",
     "evalue": "'NoneType' object has no attribute 'parent'",
     "output_type": "error",
     "traceback": [
      "\u001b[1;31m---------------------------------------------------------------------------\u001b[0m",
      "\u001b[1;31mAttributeError\u001b[0m                            Traceback (most recent call last)",
      "\u001b[1;32mc:\\Users\\justi\\Documents\\GW Modeling Repository\\homework-justinheadley\\Working\\HW12_WatershedModel\\starter_code\\Layered.ipynb Cell 11'\u001b[0m in \u001b[0;36m<module>\u001b[1;34m\u001b[0m\n\u001b[0;32m      <a href='vscode-notebook-cell:/c%3A/Users/justi/Documents/GW%20Modeling%20Repository/homework-justinheadley/Working/HW12_WatershedModel/starter_code/Layered.ipynb#ch0000010?line=3'>4</a>\u001b[0m xsect \u001b[39m=\u001b[39m flopy\u001b[39m.\u001b[39mplot\u001b[39m.\u001b[39mPlotCrossSection(model\u001b[39m=\u001b[39mm3, line\u001b[39m=\u001b[39m{\u001b[39m'\u001b[39m\u001b[39mrow\u001b[39m\u001b[39m'\u001b[39m: \u001b[39m24\u001b[39m}) \u001b[39m#note use the key 'column' if you want to plot a column instead\u001b[39;00m\n\u001b[0;32m      <a href='vscode-notebook-cell:/c%3A/Users/justi/Documents/GW%20Modeling%20Repository/homework-justinheadley/Working/HW12_WatershedModel/starter_code/Layered.ipynb#ch0000010?line=4'>5</a>\u001b[0m patches \u001b[39m=\u001b[39m xsect\u001b[39m.\u001b[39mplot_ibound(color_noflow\u001b[39m=\u001b[39m\u001b[39m'\u001b[39m\u001b[39mred\u001b[39m\u001b[39m'\u001b[39m, color_ch\u001b[39m=\u001b[39m\u001b[39m'\u001b[39m\u001b[39mblue\u001b[39m\u001b[39m'\u001b[39m)\n\u001b[1;32m----> <a href='vscode-notebook-cell:/c%3A/Users/justi/Documents/GW%20Modeling%20Repository/homework-justinheadley/Working/HW12_WatershedModel/starter_code/Layered.ipynb#ch0000010?line=5'>6</a>\u001b[0m patches \u001b[39m=\u001b[39m xsect\u001b[39m.\u001b[39;49mplot_bc(\u001b[39m'\u001b[39;49m\u001b[39mWEL\u001b[39;49m\u001b[39m'\u001b[39;49m, color\u001b[39m=\u001b[39;49m\u001b[39m'\u001b[39;49m\u001b[39mred\u001b[39;49m\u001b[39m'\u001b[39;49m)\n\u001b[0;32m      <a href='vscode-notebook-cell:/c%3A/Users/justi/Documents/GW%20Modeling%20Repository/homework-justinheadley/Working/HW12_WatershedModel/starter_code/Layered.ipynb#ch0000010?line=6'>7</a>\u001b[0m linecollection \u001b[39m=\u001b[39m xsect\u001b[39m.\u001b[39mplot_grid(color\u001b[39m=\u001b[39m\u001b[39m'\u001b[39m\u001b[39mgreen\u001b[39m\u001b[39m'\u001b[39m)\n\u001b[0;32m      <a href='vscode-notebook-cell:/c%3A/Users/justi/Documents/GW%20Modeling%20Repository/homework-justinheadley/Working/HW12_WatershedModel/starter_code/Layered.ipynb#ch0000010?line=7'>8</a>\u001b[0m t \u001b[39m=\u001b[39m ax\u001b[39m.\u001b[39mset_title(\u001b[39m'\u001b[39m\u001b[39mRow 25 Cross-Section with IBOUND Boundary Conditions\u001b[39m\u001b[39m'\u001b[39m)\n",
      "File \u001b[1;32m~\\miniconda3\\envs\\gwmod\\lib\\site-packages\\flopy\\plot\\crosssection.py:777\u001b[0m, in \u001b[0;36mPlotCrossSection.plot_bc\u001b[1;34m(self, name, package, kper, color, head, **kwargs)\u001b[0m\n\u001b[0;32m    <a href='file:///c%3A/Users/justi/miniconda3/envs/gwmod/lib/site-packages/flopy/plot/crosssection.py?line=773'>774</a>\u001b[0m     \u001b[39mraise\u001b[39;00m \u001b[39mException\u001b[39;00m(\u001b[39m\"\u001b[39m\u001b[39mCannot find package to plot\u001b[39m\u001b[39m\"\u001b[39m)\n\u001b[0;32m    <a href='file:///c%3A/Users/justi/miniconda3/envs/gwmod/lib/site-packages/flopy/plot/crosssection.py?line=775'>776</a>\u001b[0m \u001b[39m# trap for mf6 'cellid' vs mf2005 'k', 'i', 'j' convention\u001b[39;00m\n\u001b[1;32m--> <a href='file:///c%3A/Users/justi/miniconda3/envs/gwmod/lib/site-packages/flopy/plot/crosssection.py?line=776'>777</a>\u001b[0m \u001b[39mif\u001b[39;00m \u001b[39misinstance\u001b[39m(p, \u001b[39mlist\u001b[39m) \u001b[39mor\u001b[39;00m p\u001b[39m.\u001b[39;49mparent\u001b[39m.\u001b[39mversion \u001b[39m==\u001b[39m \u001b[39m\"\u001b[39m\u001b[39mmf6\u001b[39m\u001b[39m\"\u001b[39m:\n\u001b[0;32m    <a href='file:///c%3A/Users/justi/miniconda3/envs/gwmod/lib/site-packages/flopy/plot/crosssection.py?line=777'>778</a>\u001b[0m     \u001b[39mif\u001b[39;00m \u001b[39mnot\u001b[39;00m \u001b[39misinstance\u001b[39m(p, \u001b[39mlist\u001b[39m):\n\u001b[0;32m    <a href='file:///c%3A/Users/justi/miniconda3/envs/gwmod/lib/site-packages/flopy/plot/crosssection.py?line=778'>779</a>\u001b[0m         p \u001b[39m=\u001b[39m [p]\n",
      "\u001b[1;31mAttributeError\u001b[0m: 'NoneType' object has no attribute 'parent'"
     ]
    },
    {
     "data": {
      "image/png": "[encoded data removed]",
      "text/plain": [
       "<Figure size 1080x360 with 1 Axes>"
      ]
     },
     "metadata": {
      "needs_background": "light"
     },
     "output_type": "display_data"
    }
   ],
   "source": [
    "fig = plt.figure(figsize=(15, 5))\n",
    "ax = fig.add_subplot(1, 1, 1)\n",
    "\n",
    "xsect = flopy.plot.PlotCrossSection(model=m3, line={'row': 24}) #note use the key 'column' if you want to plot a column instead\n",
    "patches = xsect.plot_ibound(color_noflow='red', color_ch='blue')\n",
    "patches = xsect.plot_bc('WEL', color='red')\n",
    "linecollection = xsect.plot_grid(color='green')\n",
    "t = ax.set_title('Row 25 Cross-Section with IBOUND Boundary Conditions')"
   ]
  },
  {
   "cell_type": "markdown",
   "metadata": {},
   "source": [
    "# 7. Read in the outputs\n",
    "\n",
    "### 7.1 Modflow outputs - Heads and budget files"
   ]
  },
  {
   "cell_type": "code",
   "execution_count": null,
   "metadata": {},
   "outputs": [],
   "source": [
    "# Head - 1 layer model \n",
    "headobj1 = bf.HeadFile(modelname1+'.hds')    #reads the binary head file\n",
    "times = headobj1.get_times()                 #returns a list of timesteps\n",
    "head1 = headobj1.get_data(totim=times[-1])   #returns a numpy array of heads for specified time (last timestep)\n",
    "\n",
    "#Head - 3 layer model \n",
    "headobj3 = bf.HeadFile(modelname3+'.hds')    #reads the binary head file\n",
    "times = headobj3.get_times()                 #returns a list of timesteps\n",
    "head3 = headobj3.get_data(totim=times[-1])   #returns a numpy array of heads for specified time (last timestep)\n",
    "\n",
    "\n",
    "#Water balance - 1 layer\n",
    "budgobj1 = bf.CellBudgetFile(modelname1+'.cbc')   #reads the cell budget file    \n",
    "print(budgobj1.get_unique_record_names())\n",
    "kstpkper_list1 = budgobj1.get_kstpkper()          #returns a list of stress periods & timesteps\n",
    "frf1 = budgobj1.get_data(text='flow right face', totim=1.0) #returns an array of flow rates for right face of cells\n",
    "fff1 = budgobj1.get_data(text='flow front face', totim=1.0) #returns an array of flow rates for front face of cells \n",
    "recharge1 = budgobj1.get_data(text='RECHARGE', totim=1.0) \n",
    "\n",
    "print(frf1)\n",
    "\n",
    "#Water balance - 3 layer\n",
    "budgobj3 = bf.CellBudgetFile(modelname3+'.cbc')   #reads the cell budget file    \n",
    "print(budgobj3.get_unique_record_names())\n",
    "kstpkper_list3 = budgobj1.get_kstpkper()          #returns a list of stress periods & timesteps\n",
    "frf3 = budgobj3.get_data(text='flow right face', totim=1.0) #returns an array of flow rates for right face of cells\n",
    "fff3 = budgobj3.get_data(text='flow front face', totim=1.0) #returns an array of flow rates for front face of cells \n",
    "recharge3 = budgobj3.get_data(text='RECHARGE', totim=1.0) \n",
    "print(len(frf3))"
   ]
  },
  {
   "cell_type": "markdown",
   "metadata": {},
   "source": [
    "# 8. Plotting\n",
    "### 8.1 Cross section plots"
   ]
  },
  {
   "cell_type": "code",
   "execution_count": null,
   "metadata": {},
   "outputs": [],
   "source": [
    "#### 1 layered model \n",
    "#fig = plt.figure(figsize=(15, 5))\n",
    "#ax = fig.add_subplot(1, 1, 1)\n",
    "\n",
    "#xsect = flopy.plot.PlotCrossSection(model=m1, line={'row': 24}) #note use the key 'column' if you want to plot a column instaed\n",
    "#pc = xsect.plot_array(head1, masked_values=[999.], head=head3, alpha=0.5)\n",
    "#patches = xsect.plot_ibound(head=head1)\n",
    "#patches = xsect.plot_ibound(color_noflow='red', color_ch='blue')\n",
    "#patches = xsect.plot_bc('WEL', color='red')\n",
    "#inecollection = xsect.plot_grid(color='black', lw=0.5)\n",
    "#t = ax.set_title('1-Layer Model: Row 25 Cross-Section')\n",
    "#cb = plt.colorbar(pc, shrink=0.75)\n",
    "#Overlay the head in a layer of the model- in this case I'm doing the top layer i.e. head3[0,:,:]\n",
    "#wt = xsect.plot_surface(head1[0,:,:], masked_values=[999.], color='blue', lw=1)\n",
    "\n",
    "\n",
    "#### 3 layered model \n",
    "fig = plt.figure(figsize=(15, 5))\n",
    "ax = fig.add_subplot(1, 1, 1)\n",
    "\n",
    "xsect = flopy.plot.PlotCrossSection(model=m3, line={'row': 24}) #note use the key 'column' if you want to plot a column instead\n",
    "pc = xsect.plot_array(head3, masked_values=[999.], head=head3, alpha=0.5)\n",
    "patches = xsect.plot_ibound(head=head3)\n",
    "#patches = xsect.plot_ibound(color_noflow='red', color_ch='blue')\n",
    "#patches = xsect.plot_bc('WEL', color='red')\n",
    "linecollection = xsect.plot_grid(color='black', lw=0.5)\n",
    "t = ax.set_title('3-Layer Model: Row 25 Cross-Section')\n",
    "cb = plt.colorbar(pc, shrink=0.75)\n",
    "#Overlay the head in a layer of the model- in this case I'm doing the top layer i.e. head3[0,:,:]\n",
    "wt = xsect.plot_surface(head3[0,:,:], masked_values=[999.], color='blue', lw=1)\n"
   ]
  },
  {
   "cell_type": "markdown",
   "metadata": {},
   "source": [
    "# 9. Additional plots\n",
    "### 9.1 Plot head transect"
   ]
  },
  {
   "cell_type": "code",
   "execution_count": null,
   "metadata": {},
   "outputs": [],
   "source": [
    "fig4 = plt.figure() \n",
    "ax = fig4.add_subplot(1, 1, 1)\n",
    "\n",
    "x=np.arange(0,5000,100) \n",
    "#plt.plot(x,head1[0,int(well_row),:],marker='o', color='mediumvioletred', markersize=4, linestyle='--', label=\"1-Layer\")\n",
    "plt.plot(x,head3[2,int(well_row),:],marker='o', color='green', markersize=4, linestyle='--', label=\"3-Layer: Bottom\")\n",
    "plt.plot(x,head3[0,int(well_row),:],marker='o', color='blue', markersize=4, linestyle='--', label=\"3-Layer: Top\")\n",
    "plt.title('Head Transect')\n",
    "plt.xlabel('X Location (m)')\n",
    "plt.ylabel('Head (m)')\n",
    "plt.legend()\n",
    "\n",
    "# plt.savefig('Head_Transect.png')"
   ]
  },
  {
   "cell_type": "markdown",
   "metadata": {},
   "source": [
    "### 9.2 1 Layer Head Contours"
   ]
  },
  {
   "cell_type": "code",
   "execution_count": null,
   "metadata": {},
   "outputs": [],
   "source": [
    "#f, axes = plt.subplots(ncols=1, nrows=2, figsize=(5, 10))\n",
    "#fig3=plt.figure(figsize=(10,10))\n",
    "\n",
    "#modelmap = flopy.plot.PlotMapView(model=m1, layer=0) #use modelmap to attach plot to model\n",
    "#grid = modelmap.plot_grid() #plot model grid\n",
    "#qm = modelmap.plot_ibound()  \n",
    "#contour_levels = np.linspace(head1[0].min(),head1[0].max(),11) #set contour levels for contouring head\n",
    "#head_contours = modelmap.contour_array(head1, levels=contour_levels) #create head contours\n",
    "#flows = modelmap.plot_discharge(frf1[0], fff1[0], head=head1) #create discharge arrows\n",
    "\n",
    "#display parameters\n",
    "#plt.xlabel('Lx (m)',fontsize = 14)\n",
    "#plt.ylabel('Ly (m)',fontsize = 14)\n",
    "#plt.title('Head Contours: 1-Layer Scenario', fontsize = 15, fontweight = 'bold')\n",
    "#plt.colorbar(head_contours,aspect=5)\n",
    "#plt.show(modelmap)\n",
    "#plt.savefig('WellScenario_vectors.png')   "
   ]
  },
  {
   "cell_type": "markdown",
   "metadata": {},
   "source": [
    "### 9.3 3 Layer head contours"
   ]
  },
  {
   "cell_type": "code",
   "execution_count": null,
   "metadata": {},
   "outputs": [],
   "source": [
    "#f, axes = plt.subplots(ncols=1, nrows=2, figsize=(5, 10))\n",
    "fig3=plt.figure(figsize=(10,10))\n",
    "# print(fff1[0][0][40])\n",
    "# print(frf3[0][2][40])\n",
    "\n",
    "modelmap = flopy.plot.PlotMapView(model=m3, layer=2) #use modelmap to attach plot to model\n",
    "#grid = modelmap.plot_grid() #plot model grid\n",
    "qm = modelmap.plot_ibound()  \n",
    "contour_levels = np.linspace(head3[0][0].min(),head3[0][0].max(),11) #set contour levels for contouring head\n",
    "head_contours = modelmap.contour_array(head3, levels=contour_levels) #create head contours\n",
    "flows = modelmap.plot_discharge(frf3[0], fff3[0], head=head3) #create discharge arrows\n",
    "\n",
    "#display parameters\n",
    "plt.xlabel('Lx (m)',fontsize = 14)\n",
    "plt.ylabel('Ly (m)',fontsize = 14)\n",
    "plt.title('Head Contours: 3-Layer Scenario', fontsize = 15, fontweight = 'bold')\n",
    "plt.colorbar(head_contours,aspect=5)\n",
    "#plt.show(modelmap)\n",
    "#plt.savefig('WellScenario_vectors.png')   "
   ]
  },
  {
   "cell_type": "code",
   "execution_count": null,
   "metadata": {},
   "outputs": [],
   "source": []
  }
 ],
 "metadata": {
  "kernelspec": {
   "display_name": "Python 3",
   "language": "python",
   "name": "python3"
  },
  "language_info": {
   "codemirror_mode": {
    "name": "ipython",
    "version": 3
   },
   "file_extension": ".py",
   "mimetype": "text/x-python",
   "name": "python",
   "nbconvert_exporter": "python",
   "pygments_lexer": "ipython3",
   "version": "3.8.12"
  }
 },
 "nbformat": 4,
 "nbformat_minor": 4
}
